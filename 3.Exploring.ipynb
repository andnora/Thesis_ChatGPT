{
 "cells": [
  {
   "attachments": {},
   "cell_type": "markdown",
   "metadata": {},
   "source": [
    "## Basic data exploration of the data"
   ]
  },
  {
   "cell_type": "code",
   "execution_count": 8,
   "metadata": {},
   "outputs": [],
   "source": [
    "#Importing\n",
    "import pandas as pd\n",
    "import matplotlib.pyplot as plt\n",
    "import seaborn as sns\n",
    "import os\n",
    "\n",
    "#Set working directory\n",
    "cwd = os.getcwd()"
   ]
  },
  {
   "cell_type": "code",
   "execution_count": 4,
   "metadata": {},
   "outputs": [
    {
     "name": "stdout",
     "output_type": "stream",
     "text": [
      "The comment dataset has 323799 rows and these columns \n",
      "Index(['Subreddit', 'ID of Post', 'Comment Text', 'Score', 'Author',\n",
      "       'Date & Time', 'Length Comment'],\n",
      "      dtype='object')\n",
      "\n",
      "The post dataset has 1067 rows and these columns \n",
      "Index(['ID of Post', 'Subreddit', 'Title Post', 'Post Text', 'Author', 'Score',\n",
      "       'Number of Comments', 'URL of Post', 'Date & Time', 'Text of URL Post'],\n",
      "      dtype='object')\n"
     ]
    }
   ],
   "source": [
    "#Importing the data\n",
    "df_comment = pd.read_csv(cwd+\"/data/Comment_dataset_processed.csv\")\n",
    "df_post = pd.read_csv(cwd+\"/data/Post_dataset_processed.csv\")\n",
    "\n",
    "print(f'The comment dataset has {df_comment.shape[0]} rows and these columns \\n{df_comment.columns}\\n')\n",
    "print(f'The post dataset has {df_post.shape[0]} rows and these columns \\n{df_post.columns}')"
   ]
  },
  {
   "cell_type": "code",
   "execution_count": 3,
   "metadata": {},
   "outputs": [
    {
     "data": {
      "text/html": [
       "<div>\n",
       "<style scoped>\n",
       "    .dataframe tbody tr th:only-of-type {\n",
       "        vertical-align: middle;\n",
       "    }\n",
       "\n",
       "    .dataframe tbody tr th {\n",
       "        vertical-align: top;\n",
       "    }\n",
       "\n",
       "    .dataframe thead th {\n",
       "        text-align: right;\n",
       "    }\n",
       "</style>\n",
       "<table border=\"1\" class=\"dataframe\">\n",
       "  <thead>\n",
       "    <tr style=\"text-align: right;\">\n",
       "      <th></th>\n",
       "      <th>ID of Post</th>\n",
       "      <th>Subreddit</th>\n",
       "      <th>Title Post</th>\n",
       "      <th>Post Text</th>\n",
       "      <th>Author of Post</th>\n",
       "      <th>Score of Post</th>\n",
       "      <th>Number of Comments</th>\n",
       "      <th>URL of Post</th>\n",
       "      <th>Date &amp; Time of Post</th>\n",
       "      <th>Text of URL Post</th>\n",
       "      <th>Comment Text</th>\n",
       "      <th>Score of Comment</th>\n",
       "      <th>Author of Comment</th>\n",
       "      <th>Date &amp; Time of Comment</th>\n",
       "    </tr>\n",
       "  </thead>\n",
       "  <tbody>\n",
       "    <tr>\n",
       "      <th>0</th>\n",
       "      <td>12cobqr</td>\n",
       "      <td>ChatGPT</td>\n",
       "      <td>Was curious if GPT-4 could recognize text art</td>\n",
       "      <td></td>\n",
       "      <td>Outrageous_Bee4464</td>\n",
       "      <td>35791</td>\n",
       "      <td>619</td>\n",
       "      <td>https://redd.it/12cobqr</td>\n",
       "      <td>2023-04-05 17:39:56</td>\n",
       "      <td>can you recognize this: 2888 1 #hhhhhh#e:. \"##...</td>\n",
       "      <td>Recognizing ASCII shrek is the last step to AGI</td>\n",
       "      <td>2180</td>\n",
       "      <td>EwaldvonKleist</td>\n",
       "      <td>2023-04-05 18:30:30</td>\n",
       "    </tr>\n",
       "    <tr>\n",
       "      <th>1</th>\n",
       "      <td>12cobqr</td>\n",
       "      <td>ChatGPT</td>\n",
       "      <td>Was curious if GPT-4 could recognize text art</td>\n",
       "      <td></td>\n",
       "      <td>Outrageous_Bee4464</td>\n",
       "      <td>35791</td>\n",
       "      <td>619</td>\n",
       "      <td>https://redd.it/12cobqr</td>\n",
       "      <td>2023-04-05 17:39:56</td>\n",
       "      <td>can you recognize this: 2888 1 #hhhhhh#e:. \"##...</td>\n",
       "      <td>That's  , green icon</td>\n",
       "      <td>644</td>\n",
       "      <td>anonymoose137</td>\n",
       "      <td>2023-04-05 18:35:14</td>\n",
       "    </tr>\n",
       "    <tr>\n",
       "      <th>2</th>\n",
       "      <td>12cobqr</td>\n",
       "      <td>ChatGPT</td>\n",
       "      <td>Was curious if GPT-4 could recognize text art</td>\n",
       "      <td></td>\n",
       "      <td>Outrageous_Bee4464</td>\n",
       "      <td>35791</td>\n",
       "      <td>619</td>\n",
       "      <td>https://redd.it/12cobqr</td>\n",
       "      <td>2023-04-05 17:39:56</td>\n",
       "      <td>can you recognize this: 2888 1 #hhhhhh#e:. \"##...</td>\n",
       "      <td>It’s not   though</td>\n",
       "      <td>358</td>\n",
       "      <td>I_am_purrfect</td>\n",
       "      <td>2023-04-05 18:31:39</td>\n",
       "    </tr>\n",
       "    <tr>\n",
       "      <th>3</th>\n",
       "      <td>12cobqr</td>\n",
       "      <td>ChatGPT</td>\n",
       "      <td>Was curious if GPT-4 could recognize text art</td>\n",
       "      <td></td>\n",
       "      <td>Outrageous_Bee4464</td>\n",
       "      <td>35791</td>\n",
       "      <td>619</td>\n",
       "      <td>https://redd.it/12cobqr</td>\n",
       "      <td>2023-04-05 17:39:56</td>\n",
       "      <td>can you recognize this: 2888 1 #hhhhhh#e:. \"##...</td>\n",
       "      <td>This is not</td>\n",
       "      <td>526</td>\n",
       "      <td>vitorgrs</td>\n",
       "      <td>2023-04-05 18:38:06</td>\n",
       "    </tr>\n",
       "    <tr>\n",
       "      <th>4</th>\n",
       "      <td>12cobqr</td>\n",
       "      <td>ChatGPT</td>\n",
       "      <td>Was curious if GPT-4 could recognize text art</td>\n",
       "      <td></td>\n",
       "      <td>Outrageous_Bee4464</td>\n",
       "      <td>35791</td>\n",
       "      <td>619</td>\n",
       "      <td>https://redd.it/12cobqr</td>\n",
       "      <td>2023-04-05 17:39:56</td>\n",
       "      <td>can you recognize this: 2888 1 #hhhhhh#e:. \"##...</td>\n",
       "      <td>Can someone in the comments please do this aga...</td>\n",
       "      <td>138</td>\n",
       "      <td>Soibi0gn</td>\n",
       "      <td>2023-04-05 18:48:17</td>\n",
       "    </tr>\n",
       "  </tbody>\n",
       "</table>\n",
       "</div>"
      ],
      "text/plain": [
       "  ID of Post Subreddit                                     Title Post  \\\n",
       "0    12cobqr   ChatGPT  Was curious if GPT-4 could recognize text art   \n",
       "1    12cobqr   ChatGPT  Was curious if GPT-4 could recognize text art   \n",
       "2    12cobqr   ChatGPT  Was curious if GPT-4 could recognize text art   \n",
       "3    12cobqr   ChatGPT  Was curious if GPT-4 could recognize text art   \n",
       "4    12cobqr   ChatGPT  Was curious if GPT-4 could recognize text art   \n",
       "\n",
       "  Post Text      Author of Post  Score of Post  Number of Comments  \\\n",
       "0            Outrageous_Bee4464          35791                 619   \n",
       "1            Outrageous_Bee4464          35791                 619   \n",
       "2            Outrageous_Bee4464          35791                 619   \n",
       "3            Outrageous_Bee4464          35791                 619   \n",
       "4            Outrageous_Bee4464          35791                 619   \n",
       "\n",
       "               URL of Post  Date & Time of Post  \\\n",
       "0  https://redd.it/12cobqr  2023-04-05 17:39:56   \n",
       "1  https://redd.it/12cobqr  2023-04-05 17:39:56   \n",
       "2  https://redd.it/12cobqr  2023-04-05 17:39:56   \n",
       "3  https://redd.it/12cobqr  2023-04-05 17:39:56   \n",
       "4  https://redd.it/12cobqr  2023-04-05 17:39:56   \n",
       "\n",
       "                                    Text of URL Post  \\\n",
       "0  can you recognize this: 2888 1 #hhhhhh#e:. \"##...   \n",
       "1  can you recognize this: 2888 1 #hhhhhh#e:. \"##...   \n",
       "2  can you recognize this: 2888 1 #hhhhhh#e:. \"##...   \n",
       "3  can you recognize this: 2888 1 #hhhhhh#e:. \"##...   \n",
       "4  can you recognize this: 2888 1 #hhhhhh#e:. \"##...   \n",
       "\n",
       "                                        Comment Text  Score of Comment  \\\n",
       "0    Recognizing ASCII shrek is the last step to AGI              2180   \n",
       "1                               That's  , green icon               644   \n",
       "2                                  It’s not   though               358   \n",
       "3                                      This is not                 526   \n",
       "4  Can someone in the comments please do this aga...               138   \n",
       "\n",
       "  Author of Comment Date & Time of Comment  \n",
       "0    EwaldvonKleist    2023-04-05 18:30:30  \n",
       "1     anonymoose137    2023-04-05 18:35:14  \n",
       "2     I_am_purrfect    2023-04-05 18:31:39  \n",
       "3          vitorgrs    2023-04-05 18:38:06  \n",
       "4          Soibi0gn    2023-04-05 18:48:17  "
      ]
     },
     "execution_count": 3,
     "metadata": {},
     "output_type": "execute_result"
    }
   ],
   "source": [
    "#Taking the columns \"Comment Text\", \"Score\", \"Author\" and \"Date & Time\" from the df_comment and combining with the df_subs based on the \"ID of Post\" column\n",
    "df_all = pd.merge(df_post, df_comment[\n",
    "    [\"ID of Post\", \n",
    "    \"Comment Text\", \n",
    "    \"Score\", \n",
    "    \"Author\", \n",
    "    \"Date & Time\"]\n",
    "    ], on=\"ID of Post\")\n",
    "#Changing the column names to be more descriptive\n",
    "df_all.rename(columns={\n",
    "    \"Score_y\": \"Score of Comment\",\n",
    "    \"Score_x\": \"Score of Post\",\n",
    "    \"Date & Time_y\": \"Date & Time of Comment\",\n",
    "    \"Date & Time_x\": \"Date & Time of Post\",\n",
    "    \"Author_y\": \"Author of Comment\",\n",
    "    \"Author_x\": \"Author of Post\"\n",
    "    }, inplace=True)\n",
    "\n",
    "df_all.head()"
   ]
  },
  {
   "cell_type": "code",
   "execution_count": 7,
   "metadata": {},
   "outputs": [
    {
     "name": "stdout",
     "output_type": "stream",
     "text": [
      "The amount of posts scraped is: 1067\n",
      "\n",
      "The number of comments scraped is: 323799\n",
      "\n",
      "The amount of subreddits that have mentioned ChatGPT is: 76\n",
      "\n",
      "The amount of unique authors of posts is: 943\n",
      "\n",
      "The amount of unique authors of comments is: 104891\n",
      "\n",
      "The list of all the subreddit that have mentioned ChatGPT in given timeframe: \n",
      "['ChatGPT' 'technology' 'Futurology' 'ProgrammerHumor' 'gaming'\n",
      " 'nextfuckinglevel' 'anime_titties' 'MapPorn' 'facepalm' 'Showerthoughts'\n",
      " 'singularity' 'AusMemes' 'Piracy' 'Kanye' 'tech' 'WorkReform' 'Teachers'\n",
      " 'GPT3' 'webdev' 'self' 'technews' 'conspiracy' 'MxRMods' 'books'\n",
      " 'EnoughMuskSpam' 'antiwork' 'cybersecurity' 'dividends' 'thatHappened'\n",
      " 'coys' 'italy' 'OpenAI' 'tylerthecreator' 'nosleep' 'wallstreetbets'\n",
      " 'midjourney' 'INTP' 'ChatGPTPro' 'Destiny' 'kotor' 'LifeProTips'\n",
      " 'gadgets' 'HolUp' 'Professors' 'mauerstrassenwetten' 'sales' 'Ultrakill'\n",
      " 'Genshin_Impact' 'CryptoCurrency' 'bindingofisaac' 'French'\n",
      " 'magicthecirclejerking' 'sweden' 'MacOS' 'overemployed' 'MachineLearning'\n",
      " 'norge' 'news' 'tf2' 'apple' 'pcmasterrace' 'ExperiencedDevs'\n",
      " 'newzealand' '2westerneurope4u' 'incremental_games' 'stevenuniverse'\n",
      " 'geek' 'Deathcore' 'povertyfinance' 'stocks' 'Entrepreneur' 'datascience'\n",
      " 'h3h3productions' 'marketing' 'arduino' 'ufc']\n"
     ]
    }
   ],
   "source": [
    "#Basic data exploration\n",
    "print(f'The amount of posts scraped is: {df_post.shape[0]}\\n')\n",
    "print(f'The number of comments scraped is: {df_comment.shape[0]}\\n')\n",
    "print(f'The amount of subreddits that have mentioned ChatGPT is: {df_all[\"Subreddit\"].nunique()}\\n')\n",
    "print(f'The amount of unique authors of posts is: {df_post[\"Author\"].nunique()}\\n')\n",
    "print(f'The amount of unique authors of comments is: {df_comment[\"Author\"].nunique()}\\n')\n",
    "print(f'The list of all the subreddit that have mentioned ChatGPT in given timeframe: \\n{df_post[\"Subreddit\"].unique()}')"
   ]
  },
  {
   "attachments": {},
   "cell_type": "markdown",
   "metadata": {},
   "source": [
    "### Visualization"
   ]
  },
  {
   "cell_type": "code",
   "execution_count": 6,
   "metadata": {},
   "outputs": [],
   "source": [
    "# Convert \"Date & Time\" column to datetime format\n",
    "df_post[\"Date & Time\"] = pd.to_datetime(df_post[\"Date & Time\"], format=\"%Y-%m-%d %H:%M:%S\", errors='coerce')\n",
    "\n",
    "# Drop rows with missing values\n",
    "df_post.dropna(subset=[\"Date & Time\"], inplace=True)"
   ]
  },
  {
   "cell_type": "code",
   "execution_count": 12,
   "metadata": {},
   "outputs": [
    {
     "data": {
      "image/png": "[encoded data removed]",
      "text/plain": [
       "<Figure size 800x600 with 1 Axes>"
      ]
     },
     "metadata": {},
     "output_type": "display_data"
    }
   ],
   "source": [
    "fig, ax = plt.subplots(figsize=(8, 6))\n",
    "\n",
    "sns.histplot(data=df_post, x='Date & Time', bins=100, kde=False, ax=ax, color=\"darkcyan\", cumulative=True)\n",
    "\n",
    "ax.set_ylabel('Cumulative Amount', fontsize=14, fontweight='bold')\n",
    "ax.set_xlabel('Date', fontsize=18, fontweight='bold')\n",
    "\n",
    "plt.tight_layout()\n",
    "plt.show()"
   ]
  },
  {
   "cell_type": "code",
   "execution_count": 7,
   "metadata": {},
   "outputs": [
    {
     "name": "stdout",
     "output_type": "stream",
     "text": [
      "Plot of all posts over time: Axes(0.125,0.11;0.775x0.77)\n"
     ]
    },
    {
     "data": {
      "image/png": "[encoded data removed]",
      "text/plain": [
       "<Figure size 640x480 with 1 Axes>"
      ]
     },
     "metadata": {},
     "output_type": "display_data"
    }
   ],
   "source": [
    "#Plotting the cumulative amount of posts over time\n",
    "print(f'Plot of all posts over time: {df_post[\"Date & Time\"].hist(bins=100, cumulative=True)}')\n",
    "plt.show()"
   ]
  },
  {
   "cell_type": "code",
   "execution_count": 9,
   "metadata": {},
   "outputs": [
    {
     "name": "stdout",
     "output_type": "stream",
     "text": [
      "Plot of all posts over time: Axes(0.125,0.11;0.775x0.77)\n"
     ]
    },
    {
     "data": {
      "image/png": "[encoded data removed]",
      "text/plain": [
       "<Figure size 640x480 with 1 Axes>"
      ]
     },
     "metadata": {},
     "output_type": "display_data"
    }
   ],
   "source": [
    "#Plotting the amount of posts over time\n",
    "print(f'Plot of all posts over time: {df_post[\"Date & Time\"].hist(bins=100)}')\n",
    "plt.show()"
   ]
  },
  {
   "cell_type": "code",
   "execution_count": 10,
   "metadata": {},
   "outputs": [
    {
     "name": "stdout",
     "output_type": "stream",
     "text": [
      "Amount of all posts per week: Axes(0.125,0.11;0.775x0.77)\n"
     ]
    },
    {
     "data": {
      "image/png": "[encoded data removed]",
      "text/plain": [
       "<Figure size 640x480 with 1 Axes>"
      ]
     },
     "metadata": {},
     "output_type": "display_data"
    },
    {
     "name": "stdout",
     "output_type": "stream",
     "text": [
      "The top five weeks with highest amount of posts: \n",
      "   Date & Time  Count\n",
      "20  2023-04-23     98\n",
      "19  2023-04-16     98\n",
      "18  2023-04-09     96\n",
      "17  2023-04-02     93\n",
      "16  2023-03-26     86\n"
     ]
    }
   ],
   "source": [
    "# Group the \"Date & Time\" column in df_posts by week and count the amount of posts per week\n",
    "df_posts_week = df_post.groupby(pd.Grouper(key=\"Date & Time\", freq=\"W-SUN\")).size().reset_index(name=\"Count\")\n",
    "\n",
    "# Plot the amount of posts per week\n",
    "print(f'Amount of all posts per week: {df_posts_week.plot(x=\"Date & Time\", y=\"Count\")}')\n",
    "plt.show()\n",
    "print(f'The top five weeks with highest amount of posts: \\n{df_posts_week.sort_values(by=\"Count\", ascending=False).head()}')\n"
   ]
  },
  {
   "cell_type": "code",
   "execution_count": 11,
   "metadata": {},
   "outputs": [
    {
     "name": "stdout",
     "output_type": "stream",
     "text": [
      "Top 5 most popular posts:\n",
      "958. Imagine someone failing their class because of this reliable ChatGPT detector... (Score: 50350, Comments: 1290)\n",
      "947. The newest version of ChatGPT passed the US medical licensing exam with flying colors — and diagnosed a 1 in 100,000 condition in seconds (Score: 45093, Comments: 2932)\n",
      "949. Well that escalated quickly ChatGPT (Score: 35960, Comments: 625)\n",
      "1. Was curious if GPT-4 could recognize text art (Score: 35791, Comments: 619)\n",
      "963. ChatGPT passes MBA exam given by a Wharton professor. (Score: 33066, Comments: 2178)\n"
     ]
    }
   ],
   "source": [
    "#Visualizing the top five most popular posts\n",
    "\n",
    "#Getting the top five most popular posts\n",
    "top_posts = df_post.sort_values(\"Score\", ascending=False).head(5)\n",
    "\n",
    "#Printing the top five most popular posts\n",
    "print(\"Top 5 most popular posts:\")\n",
    "for i, post in top_posts.iterrows():\n",
    "    print(f\"{i + 1}. {post['Title Post']} (Score: {post['Score']}, Comments: {post['Number of Comments']})\")\n"
   ]
  }
 ],
 "metadata": {
  "kernelspec": {
   "display_name": "Python 3",
   "language": "python",
   "name": "python3"
  },
  "language_info": {
   "codemirror_mode": {
    "name": "ipython",
    "version": 3
   },
   "file_extension": ".py",
   "mimetype": "text/x-python",
   "name": "python",
   "nbconvert_exporter": "python",
   "pygments_lexer": "ipython3",
   "version": "3.9.0"
  },
  "orig_nbformat": 4
 },
 "nbformat": 4,
 "nbformat_minor": 2
}
