{
 "cells": [
  {
   "attachments": {},
   "cell_type": "markdown",
   "metadata": {},
   "source": [
    "## Preprocessing the data scraped from Reddit for further topic modelling and sentiment analysis"
   ]
  },
  {
   "cell_type": "code",
   "execution_count": 1,
   "metadata": {},
   "outputs": [],
   "source": [
    "#Import packages\n",
    "import pandas as pd\n",
    "import os\n",
    "import tqdm\n",
    "\n",
    "#Set working directory\n",
    "cwd = os.getcwd()"
   ]
  },
  {
   "cell_type": "code",
   "execution_count": 11,
   "metadata": {},
   "outputs": [],
   "source": [
    "#Import the data\n",
    "df_submission1 = pd.read_csv(cwd + \"/data/F1sub_chatgpt.csv\")\n",
    "df_submission2 = pd.read_csv(cwd + \"/data/F1sub_subreddits.csv\")\n",
    "df_comment1 = pd.read_csv(cwd+ '/data/F1comments_chatgpt.csv')\n",
    "df_comment2 = pd.read_csv(cwd+ '/data/F1comments_subreddits.csv')"
   ]
  },
  {
   "attachments": {},
   "cell_type": "markdown",
   "metadata": {},
   "source": [
    "### Preprocessing of submissions"
   ]
  },
  {
   "cell_type": "code",
   "execution_count": 12,
   "metadata": {},
   "outputs": [],
   "source": [
    "#Combining the two submission datasets\n",
    "df_submission = pd.concat([df_submission1, df_submission2], ignore_index=True)"
   ]
  },
  {
   "cell_type": "code",
   "execution_count": 13,
   "metadata": {},
   "outputs": [],
   "source": [
    "#Removing the empty values\n",
    "df_submission = df_submission.fillna(' ')\n",
    "#Removing the \\n from the 'Text of URL Post' column\n",
    "df_submission['Text of URL Post'] = df_submission['Text of URL Post'].str.replace('\\n', ' ')\n",
    "#Removing the links from the 'Post Text' column\n",
    "df_submission['Post Text'] = df_submission['Post Text'].str.replace(\"http\\S+\", ' ', regex=True)\n",
    "df_submission['Post Text'] = df_submission['Post Text'].str.replace(r'\\bLink\\b', ' ', regex=True)\n",
    "\n",
    "#Removing mentions of common words\n",
    "replacement_post = [\"Reddit\", \"reddit\",\n",
    "                    \"ChatGPT\", \"chatgpt\",\n",
    "                    \"chatgpt3\", \"ChatGPT3\", \"chatgpt-3\", \"ChatGPT-3\", \"GPT3\", \"gpt3\", \"GPT-3\"\n",
    "                    \"chatgpt3.5\", \"ChatGPT3.5\", \"chatgpt-3.5\", \"ChatGPT-3.5\", \"GPT3.5\", \"gpt3.5\", \"GPT-3.5\",\n",
    "                    \"chatgpt4\", \"ChatGPT4\", \"chatgpt-4\", \"ChatGPT-4\", \"GPT4\", \"gpt4\", \"GPT-4\",\n",
    "                    #Following message appeared when the retrieval of the data failed\n",
    "                    \"Sorry, for some reason reddit can't be reached.\",\n",
    "                    #Following messages appeared when cookie policies were encountered\n",
    "                    \"and its partners use cookies and similar technologies to provide you with a better experience.\", \n",
    "                    \"By accepting all cookies, you agree to our use of cookies to deliver and maintain our services and site, improve the quality of , personalize  content and advertising, and measure the effectiveness of advertising.\",\n",
    "                    \"By rejecting non-essential cookies,  may still use certain cookies to ensure the proper functionality of our platform.\",\n",
    "                    \"For more information, please see our\",\n",
    "                    \"Cookie Notice\",\n",
    "                    \"and our\",\n",
    "                    \"Privacy Policy.\",\n",
    "                    \"Sub to discuss about\",\n",
    "                    \"Not affiliated with OpenAI.\"\n",
    "                ]\n",
    "\n",
    "for index1, row1 in enumerate(df_submission[\"Text of URL Post\"]):\n",
    "    for rep1 in replacement_post:\n",
    "        df_submission.loc[index1, \"Text of URL Post\"] = df_submission[\"Text of URL Post\"][index1].replace(rep1, \"\")\n",
    "        "
   ]
  },
  {
   "cell_type": "code",
   "execution_count": 14,
   "metadata": {},
   "outputs": [
    {
     "name": "stdout",
     "output_type": "stream",
     "text": [
      "NaN in Post Text: False\n",
      "ChatGPT in Text of URL Post: False\n",
      "\\n in Text of URL Post: False\n",
      "Sorry... in Text of URL Post: False\n",
      "Cookies in Text of URL Post: False\n",
      "Links in Post Text: False\n"
     ]
    }
   ],
   "source": [
    "#Checking if the preprocessing has worked\n",
    "result1 = df_submission['Post Text'].str.contains('NaN')\n",
    "result2 = df_submission['Text of URL Post'].str.contains(\"ChatGPT\")\n",
    "result3 = df_submission['Text of URL Post'].str.contains(\"\\n\")\n",
    "result4 = df_submission['Text of URL Post'].str.contains(\"Sorry, for some reason reddit can't be reached.\")\n",
    "result5 = df_submission['Text of URL Post'].str.contains(\"By rejecting non-essential cookies,\")\n",
    "result6 = df_submission['Post Text'].str.contains(\"http\\S+\")\n",
    "\n",
    "print(f'NaN in Post Text: {result1.any()}')\n",
    "print(f'ChatGPT in Text of URL Post: {result2.any()}')\n",
    "print(f\"\\\\n in Text of URL Post: {result3.any()}\")\n",
    "print(f\"Sorry... in Text of URL Post: {result4.any()}\")\n",
    "print(f'Cookies in Text of URL Post: {result5.any()}')\n",
    "print(f'Links in Post Text: {result6.any()}')"
   ]
  },
  {
   "cell_type": "code",
   "execution_count": 15,
   "metadata": {},
   "outputs": [],
   "source": [
    "#Saving the preprocessed data\n",
    "df_submission.to_csv('F1post.csv', index=False)"
   ]
  },
  {
   "attachments": {},
   "cell_type": "markdown",
   "metadata": {},
   "source": [
    "### Preprocessing of comments"
   ]
  },
  {
   "cell_type": "code",
   "execution_count": 37,
   "metadata": {},
   "outputs": [],
   "source": [
    "#Combining the two submission datasets\n",
    "df_comment = pd.concat([df_comment1, df_comment2], ignore_index=True)"
   ]
  },
  {
   "cell_type": "code",
   "execution_count": 39,
   "metadata": {},
   "outputs": [
    {
     "name": "stderr",
     "output_type": "stream",
     "text": [
      "Replacing common words in comments:  31%|███       | 99946/323799 [01:20<02:59, 1248.95it/s]"
     ]
    },
    {
     "name": "stdout",
     "output_type": "stream",
     "text": [
      "Error: Cannot replace Reddit in row 99758. Skipping...\n",
      "Error: Cannot replace reddit in row 99758. Skipping...\n",
      "Error: Cannot replace ChatGPT in row 99758. Skipping...\n",
      "Error: Cannot replace chatgpt in row 99758. Skipping...\n",
      "Error: Cannot replace chatgpt3 in row 99758. Skipping...\n",
      "Error: Cannot replace ChatGPT3 in row 99758. Skipping...\n",
      "Error: Cannot replace chatgpt-3 in row 99758. Skipping...\n",
      "Error: Cannot replace ChatGPT-3 in row 99758. Skipping...\n",
      "Error: Cannot replace GPT3 in row 99758. Skipping...\n",
      "Error: Cannot replace gpt3 in row 99758. Skipping...\n",
      "Error: Cannot replace GPT-3chatgpt3.5 in row 99758. Skipping...\n",
      "Error: Cannot replace ChatGPT3.5 in row 99758. Skipping...\n",
      "Error: Cannot replace chatgpt-3.5 in row 99758. Skipping...\n",
      "Error: Cannot replace ChatGPT-3.5 in row 99758. Skipping...\n",
      "Error: Cannot replace GPT3.5 in row 99758. Skipping...\n",
      "Error: Cannot replace gpt3.5 in row 99758. Skipping...\n",
      "Error: Cannot replace GPT-3.5 in row 99758. Skipping...\n",
      "Error: Cannot replace chatgpt4 in row 99758. Skipping...\n",
      "Error: Cannot replace ChatGPT4 in row 99758. Skipping...\n",
      "Error: Cannot replace chatgpt-4 in row 99758. Skipping...\n",
      "Error: Cannot replace ChatGPT-4 in row 99758. Skipping...\n",
      "Error: Cannot replace GPT4 in row 99758. Skipping...\n",
      "Error: Cannot replace gpt4 in row 99758. Skipping...\n",
      "Error: Cannot replace GPT-4 in row 99758. Skipping...\n",
      "Error: Cannot replace GPT 3.5 in row 99758. Skipping...\n",
      "Error: Cannot replace gpt 3.5 in row 99758. Skipping...\n",
      "Error: Cannot replace \\n in row 99758. Skipping...\n",
      "Error: Cannot replace \\n\\n in row 99758. Skipping...\n",
      "Error: Cannot replace \\n\\n\\n in row 99758. Skipping...\n",
      "Error: Cannot replace \\n\\n\\n\\n in row 99758. Skipping...\n",
      "Error: Cannot replace [verwijderd] in row 99758. Skipping...\n"
     ]
    },
    {
     "name": "stderr",
     "output_type": "stream",
     "text": [
      "Replacing common words in comments:  32%|███▏      | 104759/323799 [01:24<02:52, 1272.70it/s]"
     ]
    },
    {
     "name": "stdout",
     "output_type": "stream",
     "text": [
      "Error: Cannot replace Reddit in row 104552. Skipping...\n",
      "Error: Cannot replace reddit in row 104552. Skipping...\n",
      "Error: Cannot replace ChatGPT in row 104552. Skipping...\n",
      "Error: Cannot replace chatgpt in row 104552. Skipping...\n",
      "Error: Cannot replace chatgpt3 in row 104552. Skipping...\n",
      "Error: Cannot replace ChatGPT3 in row 104552. Skipping...\n",
      "Error: Cannot replace chatgpt-3 in row 104552. Skipping...\n",
      "Error: Cannot replace ChatGPT-3 in row 104552. Skipping...\n",
      "Error: Cannot replace GPT3 in row 104552. Skipping...\n",
      "Error: Cannot replace gpt3 in row 104552. Skipping...\n",
      "Error: Cannot replace GPT-3chatgpt3.5 in row 104552. Skipping...\n",
      "Error: Cannot replace ChatGPT3.5 in row 104552. Skipping...\n",
      "Error: Cannot replace chatgpt-3.5 in row 104552. Skipping...\n",
      "Error: Cannot replace ChatGPT-3.5 in row 104552. Skipping...\n",
      "Error: Cannot replace GPT3.5 in row 104552. Skipping...\n",
      "Error: Cannot replace gpt3.5 in row 104552. Skipping...\n",
      "Error: Cannot replace GPT-3.5 in row 104552. Skipping...\n",
      "Error: Cannot replace chatgpt4 in row 104552. Skipping...\n",
      "Error: Cannot replace ChatGPT4 in row 104552. Skipping...\n",
      "Error: Cannot replace chatgpt-4 in row 104552. Skipping...\n",
      "Error: Cannot replace ChatGPT-4 in row 104552. Skipping...\n",
      "Error: Cannot replace GPT4 in row 104552. Skipping...\n",
      "Error: Cannot replace gpt4 in row 104552. Skipping...\n",
      "Error: Cannot replace GPT-4 in row 104552. Skipping...\n",
      "Error: Cannot replace GPT 3.5 in row 104552. Skipping...\n",
      "Error: Cannot replace gpt 3.5 in row 104552. Skipping...\n",
      "Error: Cannot replace \\n in row 104552. Skipping...\n",
      "Error: Cannot replace \\n\\n in row 104552. Skipping...\n",
      "Error: Cannot replace \\n\\n\\n in row 104552. Skipping...\n",
      "Error: Cannot replace \\n\\n\\n\\n in row 104552. Skipping...\n",
      "Error: Cannot replace [verwijderd] in row 104552. Skipping...\n"
     ]
    },
    {
     "name": "stderr",
     "output_type": "stream",
     "text": [
      "Replacing common words in comments:  46%|████▌     | 148148/323799 [02:01<02:35, 1133.16it/s]"
     ]
    },
    {
     "name": "stdout",
     "output_type": "stream",
     "text": [
      "Error: Cannot replace Reddit in row 147867. Skipping...\n",
      "Error: Cannot replace reddit in row 147867. Skipping...\n",
      "Error: Cannot replace ChatGPT in row 147867. Skipping...\n",
      "Error: Cannot replace chatgpt in row 147867. Skipping...\n",
      "Error: Cannot replace chatgpt3 in row 147867. Skipping...\n",
      "Error: Cannot replace ChatGPT3 in row 147867. Skipping...\n",
      "Error: Cannot replace chatgpt-3 in row 147867. Skipping...\n",
      "Error: Cannot replace ChatGPT-3 in row 147867. Skipping...\n",
      "Error: Cannot replace GPT3 in row 147867. Skipping...\n",
      "Error: Cannot replace gpt3 in row 147867. Skipping...\n",
      "Error: Cannot replace GPT-3chatgpt3.5 in row 147867. Skipping...\n",
      "Error: Cannot replace ChatGPT3.5 in row 147867. Skipping...\n",
      "Error: Cannot replace chatgpt-3.5 in row 147867. Skipping...\n",
      "Error: Cannot replace ChatGPT-3.5 in row 147867. Skipping...\n",
      "Error: Cannot replace GPT3.5 in row 147867. Skipping...\n",
      "Error: Cannot replace gpt3.5 in row 147867. Skipping...\n",
      "Error: Cannot replace GPT-3.5 in row 147867. Skipping...\n",
      "Error: Cannot replace chatgpt4 in row 147867. Skipping...\n",
      "Error: Cannot replace ChatGPT4 in row 147867. Skipping...\n",
      "Error: Cannot replace chatgpt-4 in row 147867. Skipping...\n",
      "Error: Cannot replace ChatGPT-4 in row 147867. Skipping...\n",
      "Error: Cannot replace GPT4 in row 147867. Skipping...\n",
      "Error: Cannot replace gpt4 in row 147867. Skipping...\n",
      "Error: Cannot replace GPT-4 in row 147867. Skipping...\n",
      "Error: Cannot replace GPT 3.5 in row 147867. Skipping...\n",
      "Error: Cannot replace gpt 3.5 in row 147867. Skipping...\n",
      "Error: Cannot replace \\n in row 147867. Skipping...\n",
      "Error: Cannot replace \\n\\n in row 147867. Skipping...\n",
      "Error: Cannot replace \\n\\n\\n in row 147867. Skipping...\n",
      "Error: Cannot replace \\n\\n\\n\\n in row 147867. Skipping...\n",
      "Error: Cannot replace [verwijderd] in row 147867. Skipping...\n"
     ]
    },
    {
     "name": "stderr",
     "output_type": "stream",
     "text": [
      "Replacing common words in comments:  81%|████████  | 261960/323799 [03:37<00:48, 1276.09it/s]"
     ]
    },
    {
     "name": "stdout",
     "output_type": "stream",
     "text": [
      "Error: Cannot replace Reddit in row 261743. Skipping...\n",
      "Error: Cannot replace reddit in row 261743. Skipping...\n",
      "Error: Cannot replace ChatGPT in row 261743. Skipping...\n",
      "Error: Cannot replace chatgpt in row 261743. Skipping...\n",
      "Error: Cannot replace chatgpt3 in row 261743. Skipping...\n",
      "Error: Cannot replace ChatGPT3 in row 261743. Skipping...\n",
      "Error: Cannot replace chatgpt-3 in row 261743. Skipping...\n",
      "Error: Cannot replace ChatGPT-3 in row 261743. Skipping...\n",
      "Error: Cannot replace GPT3 in row 261743. Skipping...\n",
      "Error: Cannot replace gpt3 in row 261743. Skipping...\n",
      "Error: Cannot replace GPT-3chatgpt3.5 in row 261743. Skipping...\n",
      "Error: Cannot replace ChatGPT3.5 in row 261743. Skipping...\n",
      "Error: Cannot replace chatgpt-3.5 in row 261743. Skipping...\n",
      "Error: Cannot replace ChatGPT-3.5 in row 261743. Skipping...\n",
      "Error: Cannot replace GPT3.5 in row 261743. Skipping...\n",
      "Error: Cannot replace gpt3.5 in row 261743. Skipping...\n",
      "Error: Cannot replace GPT-3.5 in row 261743. Skipping...\n",
      "Error: Cannot replace chatgpt4 in row 261743. Skipping...\n",
      "Error: Cannot replace ChatGPT4 in row 261743. Skipping...\n",
      "Error: Cannot replace chatgpt-4 in row 261743. Skipping...\n",
      "Error: Cannot replace ChatGPT-4 in row 261743. Skipping...\n",
      "Error: Cannot replace GPT4 in row 261743. Skipping...\n",
      "Error: Cannot replace gpt4 in row 261743. Skipping...\n",
      "Error: Cannot replace GPT-4 in row 261743. Skipping...\n",
      "Error: Cannot replace GPT 3.5 in row 261743. Skipping...\n",
      "Error: Cannot replace gpt 3.5 in row 261743. Skipping...\n",
      "Error: Cannot replace \\n in row 261743. Skipping...\n",
      "Error: Cannot replace \\n\\n in row 261743. Skipping...\n",
      "Error: Cannot replace \\n\\n\\n in row 261743. Skipping...\n",
      "Error: Cannot replace \\n\\n\\n\\n in row 261743. Skipping...\n",
      "Error: Cannot replace [verwijderd] in row 261743. Skipping...\n"
     ]
    },
    {
     "name": "stderr",
     "output_type": "stream",
     "text": [
      "Replacing common words in comments: 100%|██████████| 323799/323799 [04:24<00:00, 1222.70it/s]\n"
     ]
    }
   ],
   "source": [
    "#Removing the links from the 'Post Text' column\n",
    "df_comment['Comment Text'] = df_comment['Comment Text'].str.replace(\"http\\S+\", ' ', regex=True)\n",
    "\n",
    "#Removing mentions of common words\n",
    "replacement_comment = [\"Reddit\", \"reddit\",\n",
    "                    \"ChatGPT\", \"chatgpt\",\n",
    "                    \"chatgpt3\", \"ChatGPT3\", \"chatgpt-3\", \"ChatGPT-3\", \"GPT3\", \"gpt3\", \"GPT-3\"\n",
    "                    \"chatgpt3.5\", \"ChatGPT3.5\", \"chatgpt-3.5\", \"ChatGPT-3.5\", \"GPT3.5\", \"gpt3.5\", \"GPT-3.5\",\n",
    "                    \"chatgpt4\", \"ChatGPT4\", \"chatgpt-4\", \"ChatGPT-4\", \"GPT4\", \"gpt4\", \"GPT-4\", \"GPT 3.5\", \"gpt 3.5\", \n",
    "                    r\"\\n\", r\"\\n\\n\", r\"\\n\\n\\n\", r\"\\n\\n\\n\\n\", \n",
    "                    \"[verwijderd]\" #appeared when a comment was removed\n",
    "                ]\n",
    "\n",
    "for index2, row2 in enumerate(tqdm.tqdm(df_comment[\"Comment Text\"], desc=\"Replacing common words in comments\", total=len(df_comment))):\n",
    "    for rep2 in replacement_comment:\n",
    "        try:\n",
    "            df_comment.at[index2, 'Comment Text'] = df_comment['Comment Text'][index2].replace(rep2, ' ')\n",
    "        except AttributeError:\n",
    "            print(f\"Error: Cannot replace {rep2} in row {index2}. Skipping...\")"
   ]
  },
  {
   "cell_type": "code",
   "execution_count": 41,
   "metadata": {},
   "outputs": [
    {
     "name": "stdout",
     "output_type": "stream",
     "text": [
      "ChatGPT in Comment Text: False\n",
      "\\n in Comment Text: True\n"
     ]
    }
   ],
   "source": [
    "#Checking if the preprocessing has worked\n",
    "result7 = df_comment['Comment Text'].str.contains(\"ChatGPT\")\n",
    "result8 = df_comment['Comment Text'].str.contains(\"\\n\")\n",
    "\n",
    "print(f'ChatGPT in Comment Text: {result7.any()}')\n",
    "print(f\"\\\\n in Comment Text: {result8.any()}\")"
   ]
  },
  {
   "cell_type": "code",
   "execution_count": 42,
   "metadata": {},
   "outputs": [
    {
     "name": "stdout",
     "output_type": "stream",
     "text": [
      "[verwijderd] in Comment Text: True\n",
      "\n",
      "The original dataset:\n",
      "425    Yeah so you're on version 3.5. The icon next t...\n",
      "426    Man people need to stop downvoting people for ...\n",
      "427                                         Subscription\n",
      "428                         Green icon, GPT-4's is black\n",
      "Name: Comment Text, dtype: object\n",
      "\n",
      "The preprocessed dataset:\n",
      "425    Yeah so you're on version 3.5. The icon next t...\n",
      "426    Man people need to stop downvoting people for ...\n",
      "427                                         Subscription\n",
      "428                             Green icon,  's is black\n",
      "Name: Comment Text, dtype: object\n"
     ]
    }
   ],
   "source": [
    "#Checking if the preprocessing has wroked\n",
    "result9 = df_comment['Comment Text'].str.contains('[verwijderd]')\n",
    "print(f\"[verwijderd] in Comment Text: {result9.any()}\\n\")\n",
    "\n",
    "#This presents that the preprocessing of [verwijderd] has not worked\n",
    "#However, it did:\n",
    "df_comment_test = pd.read_csv(cwd+ '/data/F1comments_chatgpt.csv')\n",
    "print(f'The original dataset:\\n{df_comment_test[\"Comment Text\"][425:429]}\\n')\n",
    "print(f'The preprocessed dataset:\\n{df_comment[\"Comment Text\"][425:429]}')"
   ]
  },
  {
   "attachments": {},
   "cell_type": "markdown",
   "metadata": {},
   "source": [
    "It is still the case that some comments respond to other comments. This is presented in the Comment Text column as follows:\n",
    "\"\n",
    "\n",
    "\\> Original Comment.\n",
    "\n",
    "\\n\n",
    "\n",
    "New comment.\n",
    "\n",
    "\"\n",
    "\n",
    "It remains the question if these cases need to be edited/removed for future analysis."
   ]
  },
  {
   "cell_type": "code",
   "execution_count": 43,
   "metadata": {},
   "outputs": [],
   "source": [
    "#Saving the preprocessed data\n",
    "df_comment.to_csv('F1comment_PROCESSED.csv', index=False)"
   ]
  }
 ],
 "metadata": {
  "kernelspec": {
   "display_name": "Python 3",
   "language": "python",
   "name": "python3"
  },
  "language_info": {
   "codemirror_mode": {
    "name": "ipython",
    "version": 3
   },
   "file_extension": ".py",
   "mimetype": "text/x-python",
   "name": "python",
   "nbconvert_exporter": "python",
   "pygments_lexer": "ipython3",
   "version": "3.10.11"
  },
  "orig_nbformat": 4
 },
 "nbformat": 4,
 "nbformat_minor": 2
}
