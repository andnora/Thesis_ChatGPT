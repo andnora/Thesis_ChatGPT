{
 "cells": [
  {
   "attachments": {},
   "cell_type": "markdown",
   "metadata": {},
   "source": [
    "## Preprocessing the data scraped from Reddit for further topic modelling and sentiment analysis"
   ]
  },
  {
   "cell_type": "code",
   "execution_count": 48,
   "metadata": {},
   "outputs": [],
   "source": [
    "#Import packages\n",
    "import pandas as pd\n",
    "import os\n",
    "import tqdm\n",
    "import matplotlib.pyplot as plt\n",
    "import seaborn as sns\n",
    "\n",
    "#Set working directory\n",
    "cwd = os.getcwd()"
   ]
  },
  {
   "cell_type": "code",
   "execution_count": 2,
   "metadata": {},
   "outputs": [],
   "source": [
    "#Import data\n",
    "df_submission1 = pd.read_csv(cwd + \"/data/F1sub_chatgpt.csv\")\n",
    "df_submission2 = pd.read_csv(cwd + \"/data/F1sub_subreddits.csv\")\n",
    "df_comment1 = pd.read_csv(cwd+ '/data/F1comments_chatgpt.csv')\n",
    "df_comment2 = pd.read_csv(cwd+ '/data/F1comments_subreddits.csv')"
   ]
  },
  {
   "attachments": {},
   "cell_type": "markdown",
   "metadata": {},
   "source": [
    "### Preprocessing of submissions"
   ]
  },
  {
   "cell_type": "code",
   "execution_count": 3,
   "metadata": {},
   "outputs": [],
   "source": [
    "#Combining the two submission datasets\n",
    "df_submission = pd.concat([df_submission1, df_submission2], ignore_index=True)"
   ]
  },
  {
   "cell_type": "code",
   "execution_count": 5,
   "metadata": {},
   "outputs": [],
   "source": [
    "#Function to preprocess the posts\n",
    "def preprocess_submission(df: pd.DataFrame):\n",
    "    '''\n",
    "    Assign a dataframe containing the scraped posts\n",
    "    Removes empty values, \\n, links, frequently mentioned words and sentences\n",
    "    Returns a dataframe with the preprocessed posts\n",
    "    '''\n",
    "    #Removing the empty values\n",
    "    df_submission = df.fillna(' ')\n",
    "    \n",
    "    #Removing the \\n from the 'Text of URL Post' column\n",
    "    df_submission['Text of URL Post'] = df_submission['Text of URL Post'].str.replace('\\n', ' ')\n",
    "    \n",
    "    #Removing the links from the 'Post Text' column\n",
    "    df_submission['Post Text'] = df_submission['Post Text'].str.replace(\"http\\S+\", ' ', regex=True)\n",
    "    df_submission['Post Text'] = df_submission['Post Text'].str.replace(r'\\bLink\\b', ' ', regex=True)\n",
    "    \n",
    "    #Removing mentions of common words\n",
    "    replacement_post = [\n",
    "        \"Reddit\", \"reddit\",\n",
    "        \"ChatGPT\", \"chatgpt\",\n",
    "        \"chatgpt3\", \"ChatGPT3\", \"chatgpt-3\", \"ChatGPT-3\", \"GPT3\", \"gpt3\", \"GPT-3\"\n",
    "        \"chatgpt3.5\", \"ChatGPT3.5\", \"chatgpt-3.5\", \"ChatGPT-3.5\", \"GPT3.5\", \"gpt3.5\", \"GPT-3.5\",\n",
    "        \"chatgpt4\", \"ChatGPT4\", \"chatgpt-4\", \"ChatGPT-4\", \"GPT4\", \"gpt4\", \"GPT-4\",\n",
    "        #Following message appeared when the retrieval of the data failed\n",
    "        \"Sorry, for some reason reddit can't be reached.\",\n",
    "        #Following messages appeared when cookie policies were encountered\n",
    "        \"and its partners use cookies and similar technologies to provide you with a better experience.\", \n",
    "        \"By accepting all cookies, you agree to our use of cookies to deliver and maintain our services and site, improve the quality of , personalize  content and advertising, and measure the effectiveness of advertising.\",\n",
    "        \"By rejecting non-essential cookies,  may still use certain cookies to ensure the proper functionality of our platform.\",\n",
    "        \"For more information, please see our\",\n",
    "        \"Cookie Notice\",\n",
    "        \"and our\",\n",
    "        \"Privacy Policy.\",\n",
    "        \"Sub to discuss about\",\n",
    "        \"Not affiliated with OpenAI.\"\n",
    "    ]\n",
    "\n",
    "    for index1, row1 in enumerate(df_submission[\"Text of URL Post\"]):\n",
    "        for rep1 in replacement_post:\n",
    "            df_submission.loc[index1, \"Text of URL Post\"] = df_submission[\"Text of URL Post\"][index1].replace(rep1, \"\")\n",
    "    \n",
    "    return df_submission\n"
   ]
  },
  {
   "cell_type": "code",
   "execution_count": 6,
   "metadata": {},
   "outputs": [
    {
     "name": "stdout",
     "output_type": "stream",
     "text": [
      "NaN in Post Text: False\n",
      "ChatGPT in Text of URL Post: False\n",
      "\\n in Text of URL Post: False\n",
      "Sorry... in Text of URL Post: False\n",
      "Cookies in Text of URL Post: False\n",
      "Links in Post Text: False\n"
     ]
    }
   ],
   "source": [
    "#Checking if the preprocessing has worked\n",
    "result1 = df_submission['Post Text'].str.contains('NaN')\n",
    "result2 = df_submission['Text of URL Post'].str.contains(\"ChatGPT\")\n",
    "result3 = df_submission['Text of URL Post'].str.contains(\"\\n\")\n",
    "result4 = df_submission['Text of URL Post'].str.contains(\"Sorry, for some reason reddit can't be reached.\")\n",
    "result5 = df_submission['Text of URL Post'].str.contains(\"By rejecting non-essential cookies,\")\n",
    "result6 = df_submission['Post Text'].str.contains(\"http\\S+\")\n",
    "\n",
    "print(f'NaN in Post Text: {result1.any()}')\n",
    "print(f'ChatGPT in Text of URL Post: {result2.any()}')\n",
    "print(f\"\\\\n in Text of URL Post: {result3.any()}\")\n",
    "print(f\"Sorry... in Text of URL Post: {result4.any()}\")\n",
    "print(f'Cookies in Text of URL Post: {result5.any()}')\n",
    "print(f'Links in Post Text: {result6.any()}')"
   ]
  },
  {
   "cell_type": "code",
   "execution_count": 15,
   "metadata": {},
   "outputs": [],
   "source": [
    "#Saving the preprocessed data\n",
    "df_submission.to_csv('F1post.csv', index=False)"
   ]
  },
  {
   "attachments": {},
   "cell_type": "markdown",
   "metadata": {},
   "source": [
    "### Preprocessing of comments"
   ]
  },
  {
   "cell_type": "code",
   "execution_count": 35,
   "metadata": {},
   "outputs": [],
   "source": [
    "#Combining the two submission datasets\n",
    "df_comment = pd.concat([df_comment1, df_comment2], ignore_index=True)"
   ]
  },
  {
   "cell_type": "code",
   "execution_count": 36,
   "metadata": {},
   "outputs": [
    {
     "name": "stderr",
     "output_type": "stream",
     "text": [
      "Replacing common words in comments:  31%|███       | 100036/323799 [01:25<03:07, 1192.01it/s]"
     ]
    },
    {
     "name": "stdout",
     "output_type": "stream",
     "text": [
      "Error: Cannot replace Reddit in row 99758. Skipping...\n",
      "Error: Cannot replace reddit in row 99758. Skipping...\n",
      "Error: Cannot replace ChatGPT in row 99758. Skipping...\n",
      "Error: Cannot replace chatgpt in row 99758. Skipping...\n",
      "Error: Cannot replace chatgpt3 in row 99758. Skipping...\n",
      "Error: Cannot replace ChatGPT3 in row 99758. Skipping...\n",
      "Error: Cannot replace chatgpt-3 in row 99758. Skipping...\n",
      "Error: Cannot replace ChatGPT-3 in row 99758. Skipping...\n",
      "Error: Cannot replace GPT3 in row 99758. Skipping...\n",
      "Error: Cannot replace gpt3 in row 99758. Skipping...\n",
      "Error: Cannot replace GPT-3chatgpt3.5 in row 99758. Skipping...\n",
      "Error: Cannot replace ChatGPT3.5 in row 99758. Skipping...\n",
      "Error: Cannot replace chatgpt-3.5 in row 99758. Skipping...\n",
      "Error: Cannot replace ChatGPT-3.5 in row 99758. Skipping...\n",
      "Error: Cannot replace GPT3.5 in row 99758. Skipping...\n",
      "Error: Cannot replace gpt3.5 in row 99758. Skipping...\n",
      "Error: Cannot replace GPT-3.5 in row 99758. Skipping...\n",
      "Error: Cannot replace chatgpt4 in row 99758. Skipping...\n",
      "Error: Cannot replace ChatGPT4 in row 99758. Skipping...\n",
      "Error: Cannot replace chatgpt-4 in row 99758. Skipping...\n",
      "Error: Cannot replace ChatGPT-4 in row 99758. Skipping...\n",
      "Error: Cannot replace GPT4 in row 99758. Skipping...\n",
      "Error: Cannot replace gpt4 in row 99758. Skipping...\n",
      "Error: Cannot replace GPT-4 in row 99758. Skipping...\n",
      "Error: Cannot replace GPT 3.5 in row 99758. Skipping...\n",
      "Error: Cannot replace gpt 3.5 in row 99758. Skipping...\n",
      "Error: Cannot replace \\n in row 99758. Skipping...\n",
      "Error: Cannot replace \\n\\n in row 99758. Skipping...\n",
      "Error: Cannot replace \\n\\n\\n in row 99758. Skipping...\n",
      "Error: Cannot replace \\n\\n\\n\\n in row 99758. Skipping...\n",
      "Error: Cannot replace [verwijderd] in row 99758. Skipping...\n"
     ]
    },
    {
     "name": "stderr",
     "output_type": "stream",
     "text": [
      "Replacing common words in comments:  31%|███       | 101125/323799 [01:26<03:06, 1195.30it/s]"
     ]
    },
    {
     "name": "stdout",
     "output_type": "stream",
     "text": [
      "Error: Cannot replace Reddit in row 100872. Skipping...\n",
      "Error: Cannot replace reddit in row 100872. Skipping...\n",
      "Error: Cannot replace ChatGPT in row 100872. Skipping...\n",
      "Error: Cannot replace chatgpt in row 100872. Skipping...\n",
      "Error: Cannot replace chatgpt3 in row 100872. Skipping...\n",
      "Error: Cannot replace ChatGPT3 in row 100872. Skipping...\n",
      "Error: Cannot replace chatgpt-3 in row 100872. Skipping...\n",
      "Error: Cannot replace ChatGPT-3 in row 100872. Skipping...\n",
      "Error: Cannot replace GPT3 in row 100872. Skipping...\n",
      "Error: Cannot replace gpt3 in row 100872. Skipping...\n",
      "Error: Cannot replace GPT-3chatgpt3.5 in row 100872. Skipping...\n",
      "Error: Cannot replace ChatGPT3.5 in row 100872. Skipping...\n",
      "Error: Cannot replace chatgpt-3.5 in row 100872. Skipping...\n",
      "Error: Cannot replace ChatGPT-3.5 in row 100872. Skipping...\n",
      "Error: Cannot replace GPT3.5 in row 100872. Skipping...\n",
      "Error: Cannot replace gpt3.5 in row 100872. Skipping...\n",
      "Error: Cannot replace GPT-3.5 in row 100872. Skipping...\n",
      "Error: Cannot replace chatgpt4 in row 100872. Skipping...\n",
      "Error: Cannot replace ChatGPT4 in row 100872. Skipping...\n",
      "Error: Cannot replace chatgpt-4 in row 100872. Skipping...\n",
      "Error: Cannot replace ChatGPT-4 in row 100872. Skipping...\n",
      "Error: Cannot replace GPT4 in row 100872. Skipping...\n",
      "Error: Cannot replace gpt4 in row 100872. Skipping...\n",
      "Error: Cannot replace GPT-4 in row 100872. Skipping...\n",
      "Error: Cannot replace GPT 3.5 in row 100872. Skipping...\n",
      "Error: Cannot replace gpt 3.5 in row 100872. Skipping...\n",
      "Error: Cannot replace \\n in row 100872. Skipping...\n",
      "Error: Cannot replace \\n\\n in row 100872. Skipping...\n",
      "Error: Cannot replace \\n\\n\\n in row 100872. Skipping...\n",
      "Error: Cannot replace \\n\\n\\n\\n in row 100872. Skipping...\n",
      "Error: Cannot replace [verwijderd] in row 100872. Skipping...\n"
     ]
    },
    {
     "name": "stderr",
     "output_type": "stream",
     "text": [
      "Replacing common words in comments:  32%|███▏      | 104885/323799 [01:29<03:00, 1210.29it/s]"
     ]
    },
    {
     "name": "stdout",
     "output_type": "stream",
     "text": [
      "Error: Cannot replace Reddit in row 104552. Skipping...\n",
      "Error: Cannot replace reddit in row 104552. Skipping...\n",
      "Error: Cannot replace ChatGPT in row 104552. Skipping...\n",
      "Error: Cannot replace chatgpt in row 104552. Skipping...\n",
      "Error: Cannot replace chatgpt3 in row 104552. Skipping...\n",
      "Error: Cannot replace ChatGPT3 in row 104552. Skipping...\n",
      "Error: Cannot replace chatgpt-3 in row 104552. Skipping...\n",
      "Error: Cannot replace ChatGPT-3 in row 104552. Skipping...\n",
      "Error: Cannot replace GPT3 in row 104552. Skipping...\n",
      "Error: Cannot replace gpt3 in row 104552. Skipping...\n",
      "Error: Cannot replace GPT-3chatgpt3.5 in row 104552. Skipping...\n",
      "Error: Cannot replace ChatGPT3.5 in row 104552. Skipping...\n",
      "Error: Cannot replace chatgpt-3.5 in row 104552. Skipping...\n",
      "Error: Cannot replace ChatGPT-3.5 in row 104552. Skipping...\n",
      "Error: Cannot replace GPT3.5 in row 104552. Skipping...\n",
      "Error: Cannot replace gpt3.5 in row 104552. Skipping...\n",
      "Error: Cannot replace GPT-3.5 in row 104552. Skipping...\n",
      "Error: Cannot replace chatgpt4 in row 104552. Skipping...\n",
      "Error: Cannot replace ChatGPT4 in row 104552. Skipping...\n",
      "Error: Cannot replace chatgpt-4 in row 104552. Skipping...\n",
      "Error: Cannot replace ChatGPT-4 in row 104552. Skipping...\n",
      "Error: Cannot replace GPT4 in row 104552. Skipping...\n",
      "Error: Cannot replace gpt4 in row 104552. Skipping...\n",
      "Error: Cannot replace GPT-4 in row 104552. Skipping...\n",
      "Error: Cannot replace GPT 3.5 in row 104552. Skipping...\n",
      "Error: Cannot replace gpt 3.5 in row 104552. Skipping...\n",
      "Error: Cannot replace \\n in row 104552. Skipping...\n",
      "Error: Cannot replace \\n\\n in row 104552. Skipping...\n",
      "Error: Cannot replace \\n\\n\\n in row 104552. Skipping...\n",
      "Error: Cannot replace \\n\\n\\n\\n in row 104552. Skipping...\n",
      "Error: Cannot replace [verwijderd] in row 104552. Skipping...\n"
     ]
    },
    {
     "name": "stderr",
     "output_type": "stream",
     "text": [
      "Replacing common words in comments:  46%|████▌     | 148178/323799 [02:05<02:25, 1209.59it/s]"
     ]
    },
    {
     "name": "stdout",
     "output_type": "stream",
     "text": [
      "Error: Cannot replace Reddit in row 147867. Skipping...\n",
      "Error: Cannot replace reddit in row 147867. Skipping...\n",
      "Error: Cannot replace ChatGPT in row 147867. Skipping...\n",
      "Error: Cannot replace chatgpt in row 147867. Skipping...\n",
      "Error: Cannot replace chatgpt3 in row 147867. Skipping...\n",
      "Error: Cannot replace ChatGPT3 in row 147867. Skipping...\n",
      "Error: Cannot replace chatgpt-3 in row 147867. Skipping...\n",
      "Error: Cannot replace ChatGPT-3 in row 147867. Skipping...\n",
      "Error: Cannot replace GPT3 in row 147867. Skipping...\n",
      "Error: Cannot replace gpt3 in row 147867. Skipping...\n",
      "Error: Cannot replace GPT-3chatgpt3.5 in row 147867. Skipping...\n",
      "Error: Cannot replace ChatGPT3.5 in row 147867. Skipping...\n",
      "Error: Cannot replace chatgpt-3.5 in row 147867. Skipping...\n",
      "Error: Cannot replace ChatGPT-3.5 in row 147867. Skipping...\n",
      "Error: Cannot replace GPT3.5 in row 147867. Skipping...\n",
      "Error: Cannot replace gpt3.5 in row 147867. Skipping...\n",
      "Error: Cannot replace GPT-3.5 in row 147867. Skipping...\n",
      "Error: Cannot replace chatgpt4 in row 147867. Skipping...\n",
      "Error: Cannot replace ChatGPT4 in row 147867. Skipping...\n",
      "Error: Cannot replace chatgpt-4 in row 147867. Skipping...\n",
      "Error: Cannot replace ChatGPT-4 in row 147867. Skipping...\n",
      "Error: Cannot replace GPT4 in row 147867. Skipping...\n",
      "Error: Cannot replace gpt4 in row 147867. Skipping...\n",
      "Error: Cannot replace GPT-4 in row 147867. Skipping...\n",
      "Error: Cannot replace GPT 3.5 in row 147867. Skipping...\n",
      "Error: Cannot replace gpt 3.5 in row 147867. Skipping...\n",
      "Error: Cannot replace \\n in row 147867. Skipping...\n",
      "Error: Cannot replace \\n\\n in row 147867. Skipping...\n",
      "Error: Cannot replace \\n\\n\\n in row 147867. Skipping...\n",
      "Error: Cannot replace \\n\\n\\n\\n in row 147867. Skipping...\n",
      "Error: Cannot replace [verwijderd] in row 147867. Skipping...\n"
     ]
    },
    {
     "name": "stderr",
     "output_type": "stream",
     "text": [
      "Replacing common words in comments:  79%|███████▉  | 255002/323799 [03:36<00:57, 1192.92it/s]"
     ]
    },
    {
     "name": "stdout",
     "output_type": "stream",
     "text": [
      "Error: Cannot replace Reddit in row 254854. Skipping...\n",
      "Error: Cannot replace reddit in row 254854. Skipping...\n",
      "Error: Cannot replace ChatGPT in row 254854. Skipping...\n",
      "Error: Cannot replace chatgpt in row 254854. Skipping...\n",
      "Error: Cannot replace chatgpt3 in row 254854. Skipping...\n",
      "Error: Cannot replace ChatGPT3 in row 254854. Skipping...\n",
      "Error: Cannot replace chatgpt-3 in row 254854. Skipping...\n",
      "Error: Cannot replace ChatGPT-3 in row 254854. Skipping...\n",
      "Error: Cannot replace GPT3 in row 254854. Skipping...\n",
      "Error: Cannot replace gpt3 in row 254854. Skipping...\n",
      "Error: Cannot replace GPT-3chatgpt3.5 in row 254854. Skipping...\n",
      "Error: Cannot replace ChatGPT3.5 in row 254854. Skipping...\n",
      "Error: Cannot replace chatgpt-3.5 in row 254854. Skipping...\n",
      "Error: Cannot replace ChatGPT-3.5 in row 254854. Skipping...\n",
      "Error: Cannot replace GPT3.5 in row 254854. Skipping...\n",
      "Error: Cannot replace gpt3.5 in row 254854. Skipping...\n",
      "Error: Cannot replace GPT-3.5 in row 254854. Skipping...\n",
      "Error: Cannot replace chatgpt4 in row 254854. Skipping...\n",
      "Error: Cannot replace ChatGPT4 in row 254854. Skipping...\n",
      "Error: Cannot replace chatgpt-4 in row 254854. Skipping...\n",
      "Error: Cannot replace ChatGPT-4 in row 254854. Skipping...\n",
      "Error: Cannot replace GPT4 in row 254854. Skipping...\n",
      "Error: Cannot replace gpt4 in row 254854. Skipping...\n",
      "Error: Cannot replace GPT-4 in row 254854. Skipping...\n",
      "Error: Cannot replace GPT 3.5 in row 254854. Skipping...\n",
      "Error: Cannot replace gpt 3.5 in row 254854. Skipping...\n",
      "Error: Cannot replace \\n in row 254854. Skipping...\n",
      "Error: Cannot replace \\n\\n in row 254854. Skipping...\n",
      "Error: Cannot replace \\n\\n\\n in row 254854. Skipping...\n",
      "Error: Cannot replace \\n\\n\\n\\n in row 254854. Skipping...\n",
      "Error: Cannot replace [verwijderd] in row 254854. Skipping...\n"
     ]
    },
    {
     "name": "stderr",
     "output_type": "stream",
     "text": [
      "Replacing common words in comments:  81%|████████  | 261936/323799 [03:42<00:59, 1042.33it/s]"
     ]
    },
    {
     "name": "stdout",
     "output_type": "stream",
     "text": [
      "Error: Cannot replace Reddit in row 261743. Skipping...\n",
      "Error: Cannot replace reddit in row 261743. Skipping...\n",
      "Error: Cannot replace ChatGPT in row 261743. Skipping...\n",
      "Error: Cannot replace chatgpt in row 261743. Skipping...\n",
      "Error: Cannot replace chatgpt3 in row 261743. Skipping...\n",
      "Error: Cannot replace ChatGPT3 in row 261743. Skipping...\n",
      "Error: Cannot replace chatgpt-3 in row 261743. Skipping...\n",
      "Error: Cannot replace ChatGPT-3 in row 261743. Skipping...\n",
      "Error: Cannot replace GPT3 in row 261743. Skipping...\n",
      "Error: Cannot replace gpt3 in row 261743. Skipping...\n",
      "Error: Cannot replace GPT-3chatgpt3.5 in row 261743. Skipping...\n",
      "Error: Cannot replace ChatGPT3.5 in row 261743. Skipping...\n",
      "Error: Cannot replace chatgpt-3.5 in row 261743. Skipping...\n",
      "Error: Cannot replace ChatGPT-3.5 in row 261743. Skipping...\n",
      "Error: Cannot replace GPT3.5 in row 261743. Skipping...\n",
      "Error: Cannot replace gpt3.5 in row 261743. Skipping...\n",
      "Error: Cannot replace GPT-3.5 in row 261743. Skipping...\n",
      "Error: Cannot replace chatgpt4 in row 261743. Skipping...\n",
      "Error: Cannot replace ChatGPT4 in row 261743. Skipping...\n",
      "Error: Cannot replace chatgpt-4 in row 261743. Skipping...\n",
      "Error: Cannot replace ChatGPT-4 in row 261743. Skipping...\n",
      "Error: Cannot replace GPT4 in row 261743. Skipping...\n",
      "Error: Cannot replace gpt4 in row 261743. Skipping...\n",
      "Error: Cannot replace GPT-4 in row 261743. Skipping...\n",
      "Error: Cannot replace GPT 3.5 in row 261743. Skipping...\n",
      "Error: Cannot replace gpt 3.5 in row 261743. Skipping...\n",
      "Error: Cannot replace \\n in row 261743. Skipping...\n",
      "Error: Cannot replace \\n\\n in row 261743. Skipping...\n",
      "Error: Cannot replace \\n\\n\\n in row 261743. Skipping...\n",
      "Error: Cannot replace \\n\\n\\n\\n in row 261743. Skipping...\n",
      "Error: Cannot replace [verwijderd] in row 261743. Skipping...\n"
     ]
    },
    {
     "name": "stderr",
     "output_type": "stream",
     "text": [
      "Replacing common words in comments: 100%|██████████| 323799/323799 [04:35<00:00, 1177.14it/s]\n"
     ]
    }
   ],
   "source": [
    "#Function to preprocess the comments\n",
    "def preprocess_comments_dataframe(df: pd.DataFrame):\n",
    "    '''\n",
    "    Assign a dataframe containing the scraped comments\n",
    "    Removes empty values, \\n, links, frequently mentioned words and sentences\n",
    "    Outputs words and rows where the removal hasn't worked\n",
    "    Returns a dataframe with the preprocessed comments\n",
    "    '''\n",
    "    #Removing the links from the 'Comment Text' column\n",
    "    df['Comment Text'] = df['Comment Text'].str.replace(\"http\\S+\", ' ', regex=True)\n",
    "\n",
    "    #Removing every row where the text in \"Comment Text\" starts with >, as these are replies to other comments, not to the post\n",
    "    df.loc[df['Comment Text'].astype(str).str.startswith(\">\"), 'Comment Text'] = ' '\n",
    "    df = df[~(df['Comment Text'].astype(str).str.strip() == ' ')]\n",
    "\n",
    "    #Removing mentions of common words\n",
    "    replacement_comment = [\n",
    "        \"Reddit\", \"reddit\",\n",
    "        \"ChatGPT\", \"chatgpt\",\n",
    "        \"chatgpt3\", \"ChatGPT3\", \"chatgpt-3\", \"ChatGPT-3\", \"GPT3\", \"gpt3\", \"GPT-3\"\n",
    "        \"chatgpt3.5\", \"ChatGPT3.5\", \"chatgpt-3.5\", \"ChatGPT-3.5\", \"GPT3.5\", \"gpt3.5\", \"GPT-3.5\",\n",
    "        \"chatgpt4\", \"ChatGPT4\", \"chatgpt-4\", \"ChatGPT-4\", \"GPT4\", \"gpt4\", \"GPT-4\", \"GPT 3.5\", \"gpt 3.5\",\n",
    "        r\"\\n\", r\"\\n\\n\", r\"\\n\\n\\n\", r\"\\n\\n\\n\\n\",\n",
    "        \"[verwijderd]\"  #Appeared when a comment was removed\n",
    "    ]\n",
    "    for index2, row2 in enumerate(tqdm.tqdm(df[\"Comment Text\"], desc=\"Replacing common words in comments\", total=len(df))):\n",
    "        for rep2 in replacement_comment:\n",
    "            try:\n",
    "                df.at[index2, 'Comment Text'] = df['Comment Text'][index2].replace(rep2, ' ')\n",
    "            except AttributeError:\n",
    "                print(f\"Error: Cannot replace {rep2} in row {index2}. Skipping...\")\n",
    "    \n",
    "    #Removing rows consisting only of spaces\n",
    "    df = df[~(df['Comment Text'].astype(str).str.strip() == '')]\n",
    "\n",
    "    return df"
   ]
  },
  {
   "cell_type": "code",
   "execution_count": 37,
   "metadata": {},
   "outputs": [
    {
     "name": "stdout",
     "output_type": "stream",
     "text": [
      "ChatGPT in Comment Text: False\n",
      "\\n in Comment Text: True\n",
      "Comment Text starts with >: False\n"
     ]
    }
   ],
   "source": [
    "#Checking if the preprocessing has worked\n",
    "result7 = df_comment['Comment Text'].str.contains(\"ChatGPT\")\n",
    "result8 = df_comment['Comment Text'].str.contains(\"\\n\")\n",
    "result9 = df_comment['Comment Text'].str.startswith('>')\n",
    "\n",
    "print(f'ChatGPT in Comment Text: {result7.any()}')\n",
    "print(f\"\\\\n in Comment Text: {result8.any()}\") #The technique was not able to remove all\n",
    "print(f'Comment Text starts with >: {result9.any()}')"
   ]
  },
  {
   "cell_type": "code",
   "execution_count": 40,
   "metadata": {},
   "outputs": [
    {
     "name": "stdout",
     "output_type": "stream",
     "text": [
      "[verwijderd] in Comment Text: True\n",
      "\n",
      "The original dataset:\n",
      "0      Recognizing ASCII shrek is the last step to AGI\n",
      "1                           That's GPT 3.5, green icon\n",
      "2                                It’s not GPT-4 though\n",
      "3                                     This is not GPT4\n",
      "4    Can someone in the comments please do this aga...\n",
      "5    GPT4 thinks otherwise\\n\\nhttps://preview.redd....\n",
      "6                 Famous: yes\\n\\nMona Lisa: absolutely\n",
      "7                                         [verwijderd]\n",
      "8    I think you discovered a secret way for humans...\n",
      "Name: Comment Text, dtype: object\n",
      "\n",
      "The preprocessed dataset:\n",
      "0      Recognizing ASCII shrek is the last step to AGI\n",
      "1                                 That's  , green icon\n",
      "2                                    It’s not   though\n",
      "3                                        This is not  \n",
      "4    Can someone in the comments please do this aga...\n",
      "5                                thinks otherwise\\n\\n \n",
      "6                 Famous: yes\\n\\nMona Lisa: absolutely\n",
      "7                                                     \n",
      "8    I think you discovered a secret way for humans...\n",
      "Name: Comment Text, dtype: object\n"
     ]
    }
   ],
   "source": [
    "#Checking if the preprocessing has wroked fir the mentions of [verwijdert]\n",
    "result9 = df_comment['Comment Text'].str.contains('[verwijderd]')\n",
    "print(f\"[verwijderd] in Comment Text: {result9.any()}\\n\")\n",
    "\n",
    "#This presents that the preprocessing of [verwijderd] has not worked\n",
    "#However, it did:\n",
    "df_comment_test = pd.read_csv(cwd+ '/data/F1comments_chatgpt.csv')\n",
    "print(f'The original dataset:\\n{df_comment_test[\"Comment Text\"][:9]}\\n')\n",
    "print(f'The preprocessed dataset:\\n{df_comment[\"Comment Text\"][:9]}')"
   ]
  },
  {
   "cell_type": "code",
   "execution_count": 60,
   "metadata": {},
   "outputs": [],
   "source": [
    "#Saving the preprocessed data\n",
    "df_comment.to_csv(cwd+'/data/Comment_dataset_processed.csv', index=False)"
   ]
  }
 ],
 "metadata": {
  "kernelspec": {
   "display_name": "Python 3",
   "language": "python",
   "name": "python3"
  },
  "language_info": {
   "codemirror_mode": {
    "name": "ipython",
    "version": 3
   },
   "file_extension": ".py",
   "mimetype": "text/x-python",
   "name": "python",
   "nbconvert_exporter": "python",
   "pygments_lexer": "ipython3",
   "version": "3.11.3"
  },
  "orig_nbformat": 4
 },
 "nbformat": 4,
 "nbformat_minor": 2
}
